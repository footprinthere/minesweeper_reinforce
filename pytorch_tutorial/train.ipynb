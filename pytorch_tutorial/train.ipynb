{
 "cells": [
  {
   "cell_type": "code",
   "execution_count": 1,
   "metadata": {},
   "outputs": [],
   "source": [
    "# Hyperparameters\n",
    "BATCH_SIZE = 128    # for memory replay\n",
    "\n",
    "GAMMA = 0.99\n",
    "EPS_START = 0.9\n",
    "EPS_END = 0.05\n",
    "EPS_DECAY = 1000\n",
    "\n",
    "TAU = 0.005         # for soft update of target net\n",
    "LR = 1e-4"
   ]
  },
  {
   "cell_type": "code",
   "execution_count": 2,
   "metadata": {},
   "outputs": [
    {
     "name": "stdout",
     "output_type": "stream",
     "text": [
      "n_actions: 2\n",
      "n_observations: 4\n"
     ]
    }
   ],
   "source": [
    "# Environment\n",
    "import gymnasium as gym\n",
    "\n",
    "env = gym.make(\"CartPole-v1\")\n",
    "\n",
    "n_actions = env.action_space.n\n",
    "print(\"n_actions:\", n_actions)\n",
    "state, info = env.reset()\n",
    "n_observations = len(state)\n",
    "print(\"n_observations:\", n_observations)"
   ]
  },
  {
   "cell_type": "code",
   "execution_count": 3,
   "metadata": {},
   "outputs": [
    {
     "data": {
      "text/plain": [
       "<All keys matched successfully>"
      ]
     },
     "execution_count": 3,
     "metadata": {},
     "output_type": "execute_result"
    }
   ],
   "source": [
    "from model import DQN\n",
    "\n",
    "policy_net = DQN(n_observations, n_actions)\n",
    "target_net = DQN(n_observations, n_actions)     # fixed target\n",
    "target_net.load_state_dict(policy_net.state_dict())"
   ]
  },
  {
   "cell_type": "code",
   "execution_count": 4,
   "metadata": {},
   "outputs": [],
   "source": [
    "import torch\n",
    "\n",
    "from memory import ReplayMemory, Transition\n",
    "\n",
    "optimizer = torch.optim.AdamW(policy_net.parameters(), lr=LR, amsgrad=True)\n",
    "memory = ReplayMemory(10000)"
   ]
  },
  {
   "cell_type": "code",
   "execution_count": 5,
   "metadata": {},
   "outputs": [],
   "source": [
    "import math\n",
    "import random\n",
    "\n",
    "\n",
    "steps_done = 0\n",
    "\n",
    "\n",
    "def select_action(state):\n",
    "    # state: [1, n_observations]\n",
    "    # return [1, 1]\n",
    "\n",
    "    global steps_done\n",
    "    \n",
    "    sample = random.random()\n",
    "    eps_threshold = EPS_END + (EPS_START - EPS_END) * (\n",
    "        math.exp(-1.0 * steps_done / EPS_DECAY)\n",
    "    )\n",
    "    # eps = probability of exploration\n",
    "    #   The agent explores less as the training proceeds\n",
    "\n",
    "    steps_done += 1\n",
    "    \n",
    "    if sample > eps_threshold:\n",
    "        # exploitation\n",
    "        with torch.no_grad():\n",
    "            return torch.max(\n",
    "                policy_net(state), dim=-1\n",
    "            ).indices.view(1, 1)\n",
    "    else:\n",
    "        # exploration\n",
    "        return torch.tensor(\n",
    "            [[env.action_space.sample()]],\n",
    "            dtype=torch.long,\n",
    "        )"
   ]
  },
  {
   "cell_type": "code",
   "execution_count": 6,
   "metadata": {},
   "outputs": [],
   "source": [
    "def optimize_model():\n",
    "    if len(memory) < BATCH_SIZE:\n",
    "        return\n",
    "    transitions = memory.sample(batch_size=BATCH_SIZE)  # list of transitions\n",
    "    batch = Transition(*zip(*transitions))\n",
    "    # Each element of Transtion is now a list of BATCH_SIZE items\n",
    "\n",
    "    state_batch = torch.cat(batch.state)    # [BATCH_SIZE, n_observations]\n",
    "    action_batch = torch.cat(batch.action)  # [BATCH_SIZE, 1]\n",
    "    reward_batch = torch.cat(batch.reward)  # [BATCH_SIZE]\n",
    "\n",
    "    # Compute Q(s, a)\n",
    "    #   The policy network returns Q(s),\n",
    "    #   and then we choose the values corresponding to the given actions\n",
    "    state_action_values = torch.gather(policy_net(state_batch), dim=1, index=action_batch)\n",
    "    # [BATCH_SIZE, 1]\n",
    "\n",
    "    non_final_mask = torch.tensor(\n",
    "        tuple(map(lambda s: s is not None, batch.next_state)),\n",
    "        dtype=torch.bool,\n",
    "    )\n",
    "    non_final_next_state = torch.cat([s for s in batch.next_state if s is not None])\n",
    "    # [BATCH_SIZE, n_observations]\n",
    "\n",
    "    next_state_values = torch.zeros(BATCH_SIZE)\n",
    "    with torch.no_grad():\n",
    "        next_state_values[non_final_mask] = torch.max(\n",
    "            target_net(non_final_next_state), dim=1\n",
    "        ).values\n",
    "    expected_state_action_values = (next_state_values * GAMMA) + reward_batch\n",
    "    # target: R + gamma * max_a Q(s_{t+1}, a)\n",
    "\n",
    "    criterion = torch.nn.SmoothL1Loss()\n",
    "    loss = criterion(state_action_values, expected_state_action_values.unsqueeze(1))\n",
    "\n",
    "    optimizer.zero_grad()\n",
    "    loss.backward()\n",
    "\n",
    "    torch.nn.utils.clip_grad_value_(policy_net.parameters(), 100)\n",
    "    optimizer.step()"
   ]
  },
  {
   "cell_type": "code",
   "execution_count": 7,
   "metadata": {},
   "outputs": [],
   "source": [
    "import matplotlib.pyplot as plt\n",
    "from IPython import display\n",
    "\n",
    "\n",
    "episode_durations = []\n",
    "\n",
    "def plot_durations(show_result: bool = False):\n",
    "    plt.figure(1)\n",
    "    durations_t = torch.tensor(episode_durations, dtype=torch.float)\n",
    "    \n",
    "    if show_result:\n",
    "        plt.title(\"Result\")\n",
    "    else:\n",
    "        plt.clf()\n",
    "        plt.title(\"Training...\")\n",
    "    plt.xlabel(\"Episode\")\n",
    "    plt.ylabel(\"Duration\")\n",
    "    plt.plot(durations_t.numpy())\n",
    "\n",
    "    # Moving average of 100 episodes\n",
    "    if len(durations_t) >= 100:\n",
    "        means = durations_t.unfold(0, 100, 1).mean(1).view(-1)\n",
    "        means = torch.cat((torch.zeros(99), means))\n",
    "        plt.plot(means.numpy())\n",
    "\n",
    "    plt.pause(0.001)    # Wait until plots are updated\n",
    "    if show_result:\n",
    "        display.display(plt.gcf())\n",
    "    else:\n",
    "        display.display(plt.gcf())\n",
    "        display.clear_output(wait=True)"
   ]
  },
  {
   "cell_type": "code",
   "execution_count": 8,
   "metadata": {},
   "outputs": [
    {
     "name": "stdout",
     "output_type": "stream",
     "text": [
      "Complete\n"
     ]
    },
    {
     "data": {
      "image/png": "[encoded data removed]",
      "text/plain": [
       "<Figure size 432x288 with 1 Axes>"
      ]
     },
     "metadata": {
      "needs_background": "light"
     },
     "output_type": "display_data"
    },
    {
     "data": {
      "text/plain": [
       "<Figure size 432x288 with 0 Axes>"
      ]
     },
     "metadata": {},
     "output_type": "display_data"
    },
    {
     "data": {
      "text/plain": [
       "<Figure size 432x288 with 0 Axes>"
      ]
     },
     "metadata": {},
     "output_type": "display_data"
    }
   ],
   "source": [
    "from itertools import count\n",
    "\n",
    "\n",
    "num_episodes = 50\n",
    "\n",
    "for i_episode in range(num_episodes):\n",
    "    # Reset environment\n",
    "    state, info = env.reset()\n",
    "    state = torch.tensor(state, dtype=torch.float32).unsqueeze(0)   # [1, n_observations]\n",
    "\n",
    "    for t in count():\n",
    "        action = select_action(state)   # [1, 1]\n",
    "        observation, reward, terminated, truncated, _ = env.step(action.item())\n",
    "        reward = torch.tensor([reward])\n",
    "\n",
    "        if terminated:\n",
    "            next_state = None\n",
    "        else:\n",
    "            next_state = torch.tensor(observation, dtype=torch.float32).unsqueeze(0)\n",
    "\n",
    "        # Store transition in memory\n",
    "        memory.push(state, action, next_state, reward)\n",
    "\n",
    "        # Move to the next state\n",
    "        state = next_state\n",
    "\n",
    "        # Perform one step of optimization on the policy network\n",
    "        optimize_model()\n",
    "\n",
    "        # Soft update the target network's weights\n",
    "        #   Alternatively, we can update the target network's weights every C steps\n",
    "        target_net_state_dict = target_net.state_dict()\n",
    "        policy_net_state_dict = policy_net.state_dict()\n",
    "        for key in policy_net_state_dict:\n",
    "            target_net_state_dict[key] = (\n",
    "                policy_net_state_dict[key] * TAU\n",
    "                + target_net_state_dict[key] * (1 - TAU)\n",
    "            )\n",
    "        target_net.load_state_dict(target_net_state_dict)\n",
    "\n",
    "        if terminated or truncated:\n",
    "            episode_durations.append(t + 1)\n",
    "            plot_durations()\n",
    "            break\n",
    "\n",
    "print(\"Complete\")\n",
    "plot_durations(show_result=True)\n",
    "plt.ioff()\n",
    "plt.show()"
   ]
  }
 ],
 "metadata": {
  "kernelspec": {
   "display_name": "mine",
   "language": "python",
   "name": "python3"
  },
  "language_info": {
   "codemirror_mode": {
    "name": "ipython",
    "version": 3
   },
   "file_extension": ".py",
   "mimetype": "text/x-python",
   "name": "python",
   "nbconvert_exporter": "python",
   "pygments_lexer": "ipython3",
   "version": "3.10.13"
  }
 },
 "nbformat": 4,
 "nbformat_minor": 2
}
